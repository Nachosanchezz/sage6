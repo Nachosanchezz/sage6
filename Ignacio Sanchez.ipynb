{
 "cells": [
  {
   "cell_type": "code",
   "execution_count": 2,
   "metadata": {},
   "outputs": [
    {
     "name": "stdout",
     "output_type": "stream",
     "text": [
      "Media:  193/100\n"
     ]
    }
   ],
   "source": [
    "import random\n",
    "n = []\n",
    "for i in range(100):\n",
    "    n.append(random.randint(-100,100))\n",
    "media = mean(n)\n",
    "print(\"Media: \", media)"
   ]
  },
  {
   "cell_type": "code",
   "execution_count": 7,
   "metadata": {},
   "outputs": [
    {
     "name": "stdout",
     "output_type": "stream",
     "text": [
      "La media es: 65.625\n",
      "La mediana es: 63.500\n",
      "La moda es: [61, 73]\n"
     ]
    }
   ],
   "source": [
    "muestra = [71, 73, 59, 62, 65, 61, 73, 61]\n",
    "print('La media es:', mean(muestra).n(digits=5) )\n",
    "print('La mediana es:', median(muestra).n(digits=5) )\n",
    "print('La moda es:', mode(muestra) )"
   ]
  },
  {
   "cell_type": "code",
   "execution_count": 11,
   "metadata": {},
   "outputs": [
    {
     "name": "stdout",
     "output_type": "stream",
     "text": [
      "La desviación típica es: 5.8294\n",
      "La varianza es: 2.4144\n"
     ]
    }
   ],
   "source": [
    "desv_tipica = std(muestra)\n",
    "print('La desviación típica es:', desv_tipica.n(digits=5))\n",
    "print('La varianza es:', sqrt(desv_tipica).n(digits=5) )"
   ]
  },
  {
   "cell_type": "code",
   "execution_count": 6,
   "metadata": {},
   "outputs": [
    {
     "name": "stdout",
     "output_type": "stream",
     "text": [
      "Rango:  14\n"
     ]
    }
   ],
   "source": [
    "print(\"Rango: \", max(altura) - min(altura))"
   ]
  },
  {
   "cell_type": "code",
   "execution_count": null,
   "metadata": {},
   "outputs": [],
   "source": []
  }
 ],
 "metadata": {
  "kernelspec": {
   "display_name": "SageMath 9.3",
   "language": "sage",
   "name": "sagemath"
  },
  "language_info": {
   "codemirror_mode": {
    "name": "ipython",
    "version": 3
   },
   "file_extension": ".py",
   "mimetype": "text/x-python",
   "name": "python",
   "nbconvert_exporter": "python",
   "pygments_lexer": "ipython3",
   "version": "3.7.10"
  }
 },
 "nbformat": 4,
 "nbformat_minor": 4
}
